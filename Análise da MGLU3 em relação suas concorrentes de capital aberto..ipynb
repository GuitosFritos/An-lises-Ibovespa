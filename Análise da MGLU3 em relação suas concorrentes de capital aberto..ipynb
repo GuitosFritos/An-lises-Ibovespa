{
 "cells": [
  {
   "cell_type": "markdown",
   "metadata": {},
   "source": [
    "# Beta da ação MGLU3"
   ]
  },
  {
   "cell_type": "markdown",
   "metadata": {},
   "source": [
    "Importação das bibliotecas necessárias:"
   ]
  },
  {
   "cell_type": "code",
   "execution_count": 1,
   "metadata": {},
   "outputs": [],
   "source": [
    "import numpy as np\n",
    "import pandas as pd\n",
    "from pandas_datareader import data as wb\n",
    "import matplotlib.pyplot as plt"
   ]
  },
  {
   "cell_type": "markdown",
   "metadata": {},
   "source": [
    "Para encontrarmos o beta da ação é necessário os dados da respectiva empresa e também do índice de mercado, no caso o Ibovespa."
   ]
  },
  {
   "cell_type": "code",
   "execution_count": 2,
   "metadata": {},
   "outputs": [
    {
     "data": {
      "text/html": [
       "<div>\n",
       "<style scoped>\n",
       "    .dataframe tbody tr th:only-of-type {\n",
       "        vertical-align: middle;\n",
       "    }\n",
       "\n",
       "    .dataframe tbody tr th {\n",
       "        vertical-align: top;\n",
       "    }\n",
       "\n",
       "    .dataframe thead th {\n",
       "        text-align: right;\n",
       "    }\n",
       "</style>\n",
       "<table border=\"1\" class=\"dataframe\">\n",
       "  <thead>\n",
       "    <tr style=\"text-align: right;\">\n",
       "      <th></th>\n",
       "      <th>MGLU3.SA</th>\n",
       "      <th>^BVSP</th>\n",
       "    </tr>\n",
       "    <tr>\n",
       "      <th>Date</th>\n",
       "      <th></th>\n",
       "      <th></th>\n",
       "    </tr>\n",
       "  </thead>\n",
       "  <tbody>\n",
       "    <tr>\n",
       "      <th>2020-04-14</th>\n",
       "      <td>42.900002</td>\n",
       "      <td>79918.000000</td>\n",
       "    </tr>\n",
       "    <tr>\n",
       "      <th>2020-04-15</th>\n",
       "      <td>43.849998</td>\n",
       "      <td>78831.000000</td>\n",
       "    </tr>\n",
       "    <tr>\n",
       "      <th>2020-04-16</th>\n",
       "      <td>45.650002</td>\n",
       "      <td>77812.000000</td>\n",
       "    </tr>\n",
       "    <tr>\n",
       "      <th>2020-04-17</th>\n",
       "      <td>44.439999</td>\n",
       "      <td>78990.000000</td>\n",
       "    </tr>\n",
       "    <tr>\n",
       "      <th>2020-04-20</th>\n",
       "      <td>46.180000</td>\n",
       "      <td>77899.132812</td>\n",
       "    </tr>\n",
       "  </tbody>\n",
       "</table>\n",
       "</div>"
      ],
      "text/plain": [
       "             MGLU3.SA         ^BVSP\n",
       "Date                               \n",
       "2020-04-14  42.900002  79918.000000\n",
       "2020-04-15  43.849998  78831.000000\n",
       "2020-04-16  45.650002  77812.000000\n",
       "2020-04-17  44.439999  78990.000000\n",
       "2020-04-20  46.180000  77899.132812"
      ]
     },
     "execution_count": 2,
     "metadata": {},
     "output_type": "execute_result"
    }
   ],
   "source": [
    "assets=['MGLU3.SA','^BVSP']\n",
    "\n",
    "data=pd.DataFrame()\n",
    "for i in assets:\n",
    "    data[i]=wb.DataReader(i, data_source='yahoo', start='2015-1-1')['Adj Close']\n",
    "    \n",
    "data.tail()"
   ]
  },
  {
   "cell_type": "markdown",
   "metadata": {},
   "source": [
    "Segue os códigos com operações matemáticas para chegarmos ao beta:"
   ]
  },
  {
   "cell_type": "code",
   "execution_count": 3,
   "metadata": {},
   "outputs": [],
   "source": [
    "sec_returns=np.log(data/data.shift(1))"
   ]
  },
  {
   "cell_type": "code",
   "execution_count": 4,
   "metadata": {},
   "outputs": [
    {
     "data": {
      "text/html": [
       "<div>\n",
       "<style scoped>\n",
       "    .dataframe tbody tr th:only-of-type {\n",
       "        vertical-align: middle;\n",
       "    }\n",
       "\n",
       "    .dataframe tbody tr th {\n",
       "        vertical-align: top;\n",
       "    }\n",
       "\n",
       "    .dataframe thead th {\n",
       "        text-align: right;\n",
       "    }\n",
       "</style>\n",
       "<table border=\"1\" class=\"dataframe\">\n",
       "  <thead>\n",
       "    <tr style=\"text-align: right;\">\n",
       "      <th></th>\n",
       "      <th>MGLU3.SA</th>\n",
       "      <th>^BVSP</th>\n",
       "    </tr>\n",
       "  </thead>\n",
       "  <tbody>\n",
       "    <tr>\n",
       "      <th>MGLU3.SA</th>\n",
       "      <td>0.486313</td>\n",
       "      <td>0.093372</td>\n",
       "    </tr>\n",
       "    <tr>\n",
       "      <th>^BVSP</th>\n",
       "      <td>0.093372</td>\n",
       "      <td>0.077067</td>\n",
       "    </tr>\n",
       "  </tbody>\n",
       "</table>\n",
       "</div>"
      ],
      "text/plain": [
       "          MGLU3.SA     ^BVSP\n",
       "MGLU3.SA  0.486313  0.093372\n",
       "^BVSP     0.093372  0.077067"
      ]
     },
     "execution_count": 4,
     "metadata": {},
     "output_type": "execute_result"
    }
   ],
   "source": [
    "cov=sec_returns.cov()*252\n",
    "cov"
   ]
  },
  {
   "cell_type": "code",
   "execution_count": 5,
   "metadata": {},
   "outputs": [
    {
     "data": {
      "text/plain": [
       "0.09337244605375825"
      ]
     },
     "execution_count": 5,
     "metadata": {},
     "output_type": "execute_result"
    }
   ],
   "source": [
    "cov_with_market=cov.iloc[0,1]\n",
    "cov_with_market"
   ]
  },
  {
   "cell_type": "code",
   "execution_count": 6,
   "metadata": {},
   "outputs": [
    {
     "data": {
      "text/plain": [
       "0.07706712436162852"
      ]
     },
     "execution_count": 6,
     "metadata": {},
     "output_type": "execute_result"
    }
   ],
   "source": [
    "market_var=sec_returns['^BVSP'].var()*252\n",
    "market_var"
   ]
  },
  {
   "cell_type": "code",
   "execution_count": 7,
   "metadata": {},
   "outputs": [
    {
     "name": "stdout",
     "output_type": "stream",
     "text": [
      "Beta MGLU3: 1.21\n"
     ]
    }
   ],
   "source": [
    "MGLU3_beta=cov_with_market/market_var\n",
    "print('Beta MGLU3: {:.2f}'.format(MGLU3_beta))"
   ]
  },
  {
   "cell_type": "markdown",
   "metadata": {},
   "source": [
    "Com o beta de 1.35 a ação da MGLU3 tem uma volatilidade maior que a do mercado, portanto, mais arriscada."
   ]
  },
  {
   "cell_type": "markdown",
   "metadata": {},
   "source": [
    "# Análise de desempenho MGLU3 X Concorrentes"
   ]
  },
  {
   "cell_type": "code",
   "execution_count": 14,
   "metadata": {},
   "outputs": [
    {
     "data": {
      "text/html": [
       "<div>\n",
       "<style scoped>\n",
       "    .dataframe tbody tr th:only-of-type {\n",
       "        vertical-align: middle;\n",
       "    }\n",
       "\n",
       "    .dataframe tbody tr th {\n",
       "        vertical-align: top;\n",
       "    }\n",
       "\n",
       "    .dataframe thead th {\n",
       "        text-align: right;\n",
       "    }\n",
       "</style>\n",
       "<table border=\"1\" class=\"dataframe\">\n",
       "  <thead>\n",
       "    <tr style=\"text-align: right;\">\n",
       "      <th></th>\n",
       "      <th>MGLU3.SA</th>\n",
       "      <th>VVAR3.SA</th>\n",
       "      <th>BTOW3.SA</th>\n",
       "    </tr>\n",
       "    <tr>\n",
       "      <th>Date</th>\n",
       "      <th></th>\n",
       "      <th></th>\n",
       "      <th></th>\n",
       "    </tr>\n",
       "  </thead>\n",
       "  <tbody>\n",
       "    <tr>\n",
       "      <th>2020-04-14</th>\n",
       "      <td>42.900002</td>\n",
       "      <td>6.09</td>\n",
       "      <td>59.500000</td>\n",
       "    </tr>\n",
       "    <tr>\n",
       "      <th>2020-04-15</th>\n",
       "      <td>43.849998</td>\n",
       "      <td>6.36</td>\n",
       "      <td>62.799999</td>\n",
       "    </tr>\n",
       "    <tr>\n",
       "      <th>2020-04-16</th>\n",
       "      <td>45.650002</td>\n",
       "      <td>6.48</td>\n",
       "      <td>64.349998</td>\n",
       "    </tr>\n",
       "    <tr>\n",
       "      <th>2020-04-17</th>\n",
       "      <td>44.439999</td>\n",
       "      <td>6.47</td>\n",
       "      <td>61.700001</td>\n",
       "    </tr>\n",
       "    <tr>\n",
       "      <th>2020-04-20</th>\n",
       "      <td>46.169998</td>\n",
       "      <td>6.42</td>\n",
       "      <td>64.050003</td>\n",
       "    </tr>\n",
       "  </tbody>\n",
       "</table>\n",
       "</div>"
      ],
      "text/plain": [
       "             MGLU3.SA  VVAR3.SA   BTOW3.SA\n",
       "Date                                      \n",
       "2020-04-14  42.900002      6.09  59.500000\n",
       "2020-04-15  43.849998      6.36  62.799999\n",
       "2020-04-16  45.650002      6.48  64.349998\n",
       "2020-04-17  44.439999      6.47  61.700001\n",
       "2020-04-20  46.169998      6.42  64.050003"
      ]
     },
     "execution_count": 14,
     "metadata": {},
     "output_type": "execute_result"
    }
   ],
   "source": [
    "assets=['MGLU3.SA','VVAR3.SA','BTOW3.SA']\n",
    "\n",
    "data=pd.DataFrame()\n",
    "for i in assets:\n",
    "    data[i]=wb.DataReader(i, data_source='yahoo', start='2017-1-1')['Adj Close']\n",
    "    \n",
    "data.tail()"
   ]
  },
  {
   "cell_type": "code",
   "execution_count": 15,
   "metadata": {},
   "outputs": [],
   "source": [
    "data['MGLU3.SA']=data['MGLU3.SA']/data['MGLU3.SA'][0]\n",
    "data['BTOW3.SA']=data['BTOW3.SA']/data['BTOW3.SA'][0]\n",
    "data['VVAR3.SA']=data['VVAR3.SA']/data['VVAR3.SA'][0]"
   ]
  },
  {
   "cell_type": "markdown",
   "metadata": {},
   "source": [
    "Segue a comparação da variação das ações em questão desde 2015:"
   ]
  },
  {
   "cell_type": "code",
   "execution_count": 16,
   "metadata": {},
   "outputs": [
    {
     "data": {
      "image/png": "[encoded data removed]",
      "text/plain": [
       "<Figure size 720x360 with 1 Axes>"
      ]
     },
     "metadata": {
      "needs_background": "light"
     },
     "output_type": "display_data"
    }
   ],
   "source": [
    "plt.figure(figsize=(10,5))\n",
    "plt.plot(data['MGLU3.SA'], label='Magalu');\n",
    "plt.plot(data['BTOW3.SA'], label='B2W');\n",
    "plt.plot(data['VVAR3.SA'], label='ViaVarejo');\n",
    "plt.title('Magalu x B2W x ViaVarejo')\n",
    "plt.xlabel('Data')\n",
    "plt.ylabel('Variação')\n",
    "plt.legend();"
   ]
  },
  {
   "cell_type": "markdown",
   "metadata": {},
   "source": [
    "Ao analisar o gráfico, é perceptível o quão superior é a performance da MGLU em relação aos seus concorrentes desde 2017."
   ]
  },
  {
   "cell_type": "markdown",
   "metadata": {},
   "source": [
    "# Desempenho com Covid-19"
   ]
  },
  {
   "cell_type": "markdown",
   "metadata": {},
   "source": [
    "Análise de desempenho em relação ao Covid-19, a partir do dia 1 de março."
   ]
  },
  {
   "cell_type": "code",
   "execution_count": 11,
   "metadata": {},
   "outputs": [
    {
     "data": {
      "text/html": [
       "<div>\n",
       "<style scoped>\n",
       "    .dataframe tbody tr th:only-of-type {\n",
       "        vertical-align: middle;\n",
       "    }\n",
       "\n",
       "    .dataframe tbody tr th {\n",
       "        vertical-align: top;\n",
       "    }\n",
       "\n",
       "    .dataframe thead th {\n",
       "        text-align: right;\n",
       "    }\n",
       "</style>\n",
       "<table border=\"1\" class=\"dataframe\">\n",
       "  <thead>\n",
       "    <tr style=\"text-align: right;\">\n",
       "      <th></th>\n",
       "      <th>MGLU3.SA</th>\n",
       "      <th>VVAR3.SA</th>\n",
       "      <th>BTOW3.SA</th>\n",
       "    </tr>\n",
       "    <tr>\n",
       "      <th>Date</th>\n",
       "      <th></th>\n",
       "      <th></th>\n",
       "      <th></th>\n",
       "    </tr>\n",
       "  </thead>\n",
       "  <tbody>\n",
       "    <tr>\n",
       "      <th>2020-04-14</th>\n",
       "      <td>42.900002</td>\n",
       "      <td>6.09</td>\n",
       "      <td>59.500000</td>\n",
       "    </tr>\n",
       "    <tr>\n",
       "      <th>2020-04-15</th>\n",
       "      <td>43.849998</td>\n",
       "      <td>6.36</td>\n",
       "      <td>62.799999</td>\n",
       "    </tr>\n",
       "    <tr>\n",
       "      <th>2020-04-16</th>\n",
       "      <td>45.650002</td>\n",
       "      <td>6.48</td>\n",
       "      <td>64.349998</td>\n",
       "    </tr>\n",
       "    <tr>\n",
       "      <th>2020-04-17</th>\n",
       "      <td>44.439999</td>\n",
       "      <td>6.47</td>\n",
       "      <td>61.700001</td>\n",
       "    </tr>\n",
       "    <tr>\n",
       "      <th>2020-04-20</th>\n",
       "      <td>46.200001</td>\n",
       "      <td>6.43</td>\n",
       "      <td>63.939999</td>\n",
       "    </tr>\n",
       "  </tbody>\n",
       "</table>\n",
       "</div>"
      ],
      "text/plain": [
       "             MGLU3.SA  VVAR3.SA   BTOW3.SA\n",
       "Date                                      \n",
       "2020-04-14  42.900002      6.09  59.500000\n",
       "2020-04-15  43.849998      6.36  62.799999\n",
       "2020-04-16  45.650002      6.48  64.349998\n",
       "2020-04-17  44.439999      6.47  61.700001\n",
       "2020-04-20  46.200001      6.43  63.939999"
      ]
     },
     "execution_count": 11,
     "metadata": {},
     "output_type": "execute_result"
    }
   ],
   "source": [
    "assets=['MGLU3.SA','VVAR3.SA','BTOW3.SA']\n",
    "\n",
    "data=pd.DataFrame()\n",
    "for i in assets:\n",
    "    data[i]=wb.DataReader(i, data_source='yahoo', start='2020-3-1')['Adj Close']\n",
    "    \n",
    "data.tail()"
   ]
  },
  {
   "cell_type": "code",
   "execution_count": 12,
   "metadata": {},
   "outputs": [],
   "source": [
    "data['MGLU3.SA']=data['MGLU3.SA']/data['MGLU3.SA'][0]\n",
    "data['BTOW3.SA']=data['BTOW3.SA']/data['BTOW3.SA'][0]\n",
    "data['VVAR3.SA']=data['VVAR3.SA']/data['VVAR3.SA'][0]"
   ]
  },
  {
   "cell_type": "code",
   "execution_count": 13,
   "metadata": {},
   "outputs": [
    {
     "data": {
      "image/png": "[encoded data removed]",
      "text/plain": [
       "<Figure size 720x360 with 1 Axes>"
      ]
     },
     "metadata": {
      "needs_background": "light"
     },
     "output_type": "display_data"
    }
   ],
   "source": [
    "plt.figure(figsize=(10,5))\n",
    "plt.plot(data['MGLU3.SA'], label='Magalu');\n",
    "plt.plot(data['BTOW3.SA'], label='B2W');\n",
    "plt.plot(data['VVAR3.SA'], label='ViaVarejo');\n",
    "plt.title('Magalu x B2W x ViaVarejo')\n",
    "plt.xlabel('Data')\n",
    "plt.ylabel('Variação')\n",
    "plt.legend();"
   ]
  },
  {
   "cell_type": "markdown",
   "metadata": {},
   "source": [
    "Com o COVID-19 a B2W foi a menos afeta, logo após vem a Magazine e por último a ViaVarejo, perdendo mais que a metade do seu valor de mercado."
   ]
  }
 ],
 "metadata": {
  "kernelspec": {
   "display_name": "Python 3",
   "language": "python",
   "name": "python3"
  },
  "language_info": {
   "codemirror_mode": {
    "name": "ipython",
    "version": 3
   },
   "file_extension": ".py",
   "mimetype": "text/x-python",
   "name": "python",
   "nbconvert_exporter": "python",
   "pygments_lexer": "ipython3",
   "version": "3.7.3"
  }
 },
 "nbformat": 4,
 "nbformat_minor": 2
}
